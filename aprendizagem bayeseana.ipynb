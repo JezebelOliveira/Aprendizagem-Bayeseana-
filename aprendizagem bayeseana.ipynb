{
 "cells": [
  {
   "cell_type": "code",
   "execution_count": 2,
   "metadata": {},
   "outputs": [],
   "source": [
    "import numpy as np\n",
    "import pandas as pd\n",
    "import matplotlib.pyplot as plt"
   ]
  },
  {
   "cell_type": "code",
   "execution_count": 3,
   "metadata": {},
   "outputs": [],
   "source": [
    "#Naive Bayes - abordagem probabilística\n",
    "#pega base de dados e faz a probabilidade\n",
    "#correção laplaciana: quando todas as probabilidades de projeção dão 0\n",
    "#Objetivo: analisar o risco de conceder credito "
   ]
  },
  {
   "cell_type": "code",
   "execution_count": 4,
   "metadata": {},
   "outputs": [
    {
     "data": {
      "text/html": [
       "<div>\n",
       "<style scoped>\n",
       "    .dataframe tbody tr th:only-of-type {\n",
       "        vertical-align: middle;\n",
       "    }\n",
       "\n",
       "    .dataframe tbody tr th {\n",
       "        vertical-align: top;\n",
       "    }\n",
       "\n",
       "    .dataframe thead th {\n",
       "        text-align: right;\n",
       "    }\n",
       "</style>\n",
       "<table border=\"1\" class=\"dataframe\">\n",
       "  <thead>\n",
       "    <tr style=\"text-align: right;\">\n",
       "      <th></th>\n",
       "      <th>historia</th>\n",
       "      <th>divida</th>\n",
       "      <th>garantias</th>\n",
       "      <th>renda</th>\n",
       "      <th>risco</th>\n",
       "    </tr>\n",
       "  </thead>\n",
       "  <tbody>\n",
       "    <tr>\n",
       "      <th>0</th>\n",
       "      <td>ruim</td>\n",
       "      <td>alta</td>\n",
       "      <td>nenhuma</td>\n",
       "      <td>0_15</td>\n",
       "      <td>alto</td>\n",
       "    </tr>\n",
       "    <tr>\n",
       "      <th>1</th>\n",
       "      <td>desconhecida</td>\n",
       "      <td>alta</td>\n",
       "      <td>nenhuma</td>\n",
       "      <td>15_35</td>\n",
       "      <td>alto</td>\n",
       "    </tr>\n",
       "    <tr>\n",
       "      <th>2</th>\n",
       "      <td>desconhecida</td>\n",
       "      <td>baixa</td>\n",
       "      <td>nenhuma</td>\n",
       "      <td>15_35</td>\n",
       "      <td>moderado</td>\n",
       "    </tr>\n",
       "    <tr>\n",
       "      <th>3</th>\n",
       "      <td>desconhecida</td>\n",
       "      <td>baixa</td>\n",
       "      <td>nenhuma</td>\n",
       "      <td>acima_35</td>\n",
       "      <td>alto</td>\n",
       "    </tr>\n",
       "    <tr>\n",
       "      <th>4</th>\n",
       "      <td>desconhecida</td>\n",
       "      <td>baixa</td>\n",
       "      <td>nenhuma</td>\n",
       "      <td>acima_35</td>\n",
       "      <td>baixo</td>\n",
       "    </tr>\n",
       "    <tr>\n",
       "      <th>5</th>\n",
       "      <td>desconhecida</td>\n",
       "      <td>baixa</td>\n",
       "      <td>adequada</td>\n",
       "      <td>acima_35</td>\n",
       "      <td>baixo</td>\n",
       "    </tr>\n",
       "    <tr>\n",
       "      <th>6</th>\n",
       "      <td>ruim</td>\n",
       "      <td>baixa</td>\n",
       "      <td>nenhuma</td>\n",
       "      <td>0_15</td>\n",
       "      <td>alto</td>\n",
       "    </tr>\n",
       "    <tr>\n",
       "      <th>7</th>\n",
       "      <td>ruim</td>\n",
       "      <td>baixa</td>\n",
       "      <td>adequada</td>\n",
       "      <td>acima_35</td>\n",
       "      <td>moderado</td>\n",
       "    </tr>\n",
       "    <tr>\n",
       "      <th>8</th>\n",
       "      <td>boa</td>\n",
       "      <td>baixa</td>\n",
       "      <td>nenhuma</td>\n",
       "      <td>acima_35</td>\n",
       "      <td>baixo</td>\n",
       "    </tr>\n",
       "    <tr>\n",
       "      <th>9</th>\n",
       "      <td>boa</td>\n",
       "      <td>alta</td>\n",
       "      <td>adequada</td>\n",
       "      <td>acima_35</td>\n",
       "      <td>baixo</td>\n",
       "    </tr>\n",
       "    <tr>\n",
       "      <th>10</th>\n",
       "      <td>boa</td>\n",
       "      <td>alta</td>\n",
       "      <td>nenhuma</td>\n",
       "      <td>0_15</td>\n",
       "      <td>alto</td>\n",
       "    </tr>\n",
       "    <tr>\n",
       "      <th>11</th>\n",
       "      <td>boa</td>\n",
       "      <td>alta</td>\n",
       "      <td>nenhuma</td>\n",
       "      <td>15_35</td>\n",
       "      <td>moderado</td>\n",
       "    </tr>\n",
       "    <tr>\n",
       "      <th>12</th>\n",
       "      <td>boa</td>\n",
       "      <td>alta</td>\n",
       "      <td>nenhuma</td>\n",
       "      <td>acima_35</td>\n",
       "      <td>baixo</td>\n",
       "    </tr>\n",
       "    <tr>\n",
       "      <th>13</th>\n",
       "      <td>ruim</td>\n",
       "      <td>alta</td>\n",
       "      <td>nenhuma</td>\n",
       "      <td>15_35</td>\n",
       "      <td>alto</td>\n",
       "    </tr>\n",
       "  </tbody>\n",
       "</table>\n",
       "</div>"
      ],
      "text/plain": [
       "        historia divida garantias     renda     risco\n",
       "0           ruim   alta   nenhuma      0_15      alto\n",
       "1   desconhecida   alta   nenhuma     15_35      alto\n",
       "2   desconhecida  baixa   nenhuma     15_35  moderado\n",
       "3   desconhecida  baixa   nenhuma  acima_35      alto\n",
       "4   desconhecida  baixa   nenhuma  acima_35     baixo\n",
       "5   desconhecida  baixa  adequada  acima_35     baixo\n",
       "6           ruim  baixa   nenhuma      0_15      alto\n",
       "7           ruim  baixa  adequada  acima_35  moderado\n",
       "8            boa  baixa   nenhuma  acima_35     baixo\n",
       "9            boa   alta  adequada  acima_35     baixo\n",
       "10           boa   alta   nenhuma      0_15      alto\n",
       "11           boa   alta   nenhuma     15_35  moderado\n",
       "12           boa   alta   nenhuma  acima_35     baixo\n",
       "13          ruim   alta   nenhuma     15_35      alto"
      ]
     },
     "execution_count": 4,
     "metadata": {},
     "output_type": "execute_result"
    }
   ],
   "source": [
    "base_de_risco = pd.read_csv(\"./risco_credito.csv\")\n",
    "base_de_risco"
   ]
  },
  {
   "cell_type": "markdown",
   "metadata": {},
   "source": [
    "# pre processamento"
   ]
  },
  {
   "cell_type": "code",
   "execution_count": 5,
   "metadata": {},
   "outputs": [],
   "source": [
    "#atributos\n",
    "x_credito = base_de_risco.iloc[:,0:4].values\n",
    "\n",
    "#classe\n",
    "y_credito = base_de_risco.iloc[:,4].values"
   ]
  },
  {
   "cell_type": "code",
   "execution_count": 6,
   "metadata": {},
   "outputs": [],
   "source": [
    "from sklearn.preprocessing import LabelEncoder\n",
    "labelenconder_historia = LabelEncoder()\n",
    "labelenconder_dividas = LabelEncoder()\n",
    "labelenconder_garantias = LabelEncoder()\n",
    "labelenconder_renda = LabelEncoder()\n"
   ]
  },
  {
   "cell_type": "code",
   "execution_count": 7,
   "metadata": {},
   "outputs": [],
   "source": [
    "x_credito[:,0] = labelenconder_historia.fit_transform(x_credito[:,0])\n",
    "x_credito[:,1] = labelenconder_dividas.fit_transform(x_credito[:,1])\n",
    "x_credito[:,2] = labelenconder_garantias.fit_transform(x_credito[:,2])\n",
    "x_credito[:,3] = labelenconder_renda.fit_transform(x_credito[:,3])"
   ]
  },
  {
   "cell_type": "code",
   "execution_count": 8,
   "metadata": {},
   "outputs": [],
   "source": [
    "import pickle\n",
    "with open('risco_credito.pkl','wb') as f:\n",
    "    pickle.dump([x_credito,y_credito], f)"
   ]
  },
  {
   "cell_type": "markdown",
   "metadata": {},
   "source": [
    "# Criar algorítimo Naive Bayes"
   ]
  },
  {
   "cell_type": "code",
   "execution_count": 17,
   "metadata": {},
   "outputs": [
    {
     "data": {
      "text/plain": [
       "GaussianNB()"
      ]
     },
     "execution_count": 17,
     "metadata": {},
     "output_type": "execute_result"
    }
   ],
   "source": [
    "from sklearn.naive_bayes import GaussianNB\n",
    "naive_risco_cred = GaussianNB()\n",
    "\n",
    "#treinamento do algoritimo- gerar uma tabela de probabilidade\n",
    "\n",
    "naive_risco_cred.fit(x_credito,y_credito)\n",
    "\n"
   ]
  },
  {
   "cell_type": "code",
   "execution_count": 10,
   "metadata": {},
   "outputs": [
    {
     "data": {
      "text/plain": [
       "array([[2, 0, 1, 0],\n",
       "       [1, 0, 1, 1],\n",
       "       [1, 1, 1, 1],\n",
       "       [1, 1, 1, 2],\n",
       "       [1, 1, 1, 2],\n",
       "       [1, 1, 0, 2],\n",
       "       [2, 1, 1, 0],\n",
       "       [2, 1, 0, 2],\n",
       "       [0, 1, 1, 2],\n",
       "       [0, 0, 0, 2],\n",
       "       [0, 0, 1, 0],\n",
       "       [0, 0, 1, 1],\n",
       "       [0, 0, 1, 2],\n",
       "       [2, 0, 1, 1]], dtype=object)"
      ]
     },
     "execution_count": 10,
     "metadata": {},
     "output_type": "execute_result"
    }
   ],
   "source": [
    "x_credito"
   ]
  },
  {
   "cell_type": "code",
   "execution_count": 11,
   "metadata": {},
   "outputs": [
    {
     "data": {
      "text/plain": [
       "array(['baixo', 'moderado'], dtype='<U8')"
      ]
     },
     "execution_count": 11,
     "metadata": {},
     "output_type": "execute_result"
    }
   ],
   "source": [
    "#gerar uma previsão\n",
    "\n",
    "#em cred.predict vamos colocar os numeros que correspondem ao hitorico do cliente\n",
    "\n",
    "previsao =naive_risco_cred.predict([[0,0,1,2],[2,0,0,0]])\n",
    "previsao"
   ]
  },
  {
   "cell_type": "code",
   "execution_count": 12,
   "metadata": {},
   "outputs": [
    {
     "data": {
      "text/plain": [
       "array(['alto', 'baixo', 'moderado'], dtype='<U8')"
      ]
     },
     "execution_count": 12,
     "metadata": {},
     "output_type": "execute_result"
    }
   ],
   "source": [
    "naive_risco_cred.classes_"
   ]
  },
  {
   "cell_type": "code",
   "execution_count": 13,
   "metadata": {},
   "outputs": [
    {
     "data": {
      "text/plain": [
       "array([6., 5., 3.])"
      ]
     },
     "execution_count": 13,
     "metadata": {},
     "output_type": "execute_result"
    }
   ],
   "source": [
    "naive_risco_cred.class_count_"
   ]
  },
  {
   "cell_type": "code",
   "execution_count": 14,
   "metadata": {},
   "outputs": [
    {
     "data": {
      "text/plain": [
       "array([0.42857143, 0.35714286, 0.21428571])"
      ]
     },
     "execution_count": 14,
     "metadata": {},
     "output_type": "execute_result"
    }
   ],
   "source": [
    "naive_risco_cred.class_prior_"
   ]
  }
 ],
 "metadata": {
  "interpreter": {
   "hash": "f063931d31def06502027ac52d5d15a605f83e8847b21e726c6170e9bd6cc32a"
  },
  "kernelspec": {
   "display_name": "Python 3.8.8 64-bit ('base': conda)",
   "name": "python3"
  },
  "language_info": {
   "codemirror_mode": {
    "name": "ipython",
    "version": 3
   },
   "file_extension": ".py",
   "mimetype": "text/x-python",
   "name": "python",
   "nbconvert_exporter": "python",
   "pygments_lexer": "ipython3",
   "version": "3.8.8"
  },
  "orig_nbformat": 4
 },
 "nbformat": 4,
 "nbformat_minor": 2
}
